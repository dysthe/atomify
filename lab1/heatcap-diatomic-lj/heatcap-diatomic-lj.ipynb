{
 "cells": [
  {
   "cell_type": "code",
   "execution_count": null,
   "metadata": {},
   "outputs": [],
   "source": [
    "# Add lammps_logfile to available packages.\n",
    "# This is a workaround since the lammps-logfile\n",
    "# needs to be updated. This requirement will go away later.\n",
    "import sys\n",
    "sys.path.append('/drive')\n",
    "%pip install pandas"
   ]
  },
  {
   "cell_type": "markdown",
   "metadata": {},
   "source": [
    "* Open logfile. Make sure name matches the one you set in heatcap-diatomic-lj.in\n",
    "* Display which data are available and what the keywords for accessing this data are."
   ]
  },
  {
   "cell_type": "code",
   "execution_count": null,
   "metadata": {
    "scrolled": true
   },
   "outputs": [],
   "source": [
    "import lammps_logfile\n",
    "import matplotlib\n",
    "log = lammps_logfile.File(\"./log-diatom-T2-rho0.01-eFlux10.lammps\")\n",
    "print(\"Log keywords: \", log.get_keywords())"
   ]
  },
  {
   "cell_type": "markdown",
   "metadata": {
    "scrolled": true
   },
   "source": [
    "Choose and import data from logfile and plot data.\n",
    "\n",
    "Perform simulations to determine $C_V$ for the two $N_2$ models. \n",
    "* Compare $C_V$ to ideal gas $C_V$.\n",
    "* How many degrees of freedom do these two $N_2$ models have? \n",
    "* How does this compare to the number of degrees of freedom that you derived from sound velocity measurements in the lab?\n",
    "\n",
    "\n"
   ]
  },
  {
   "cell_type": "code",
   "execution_count": null,
   "metadata": {
    "scrolled": true
   },
   "outputs": [],
   "source": [
    "t = log.get(\"Step\")\n",
    "T = log.get(\"Temp\")\n",
    "P = log.get(\"Press\")\n",
    "\n",
    "import matplotlib.pyplot as plt\n",
    "plt.plot(t, T)\n",
    "plt.xlabel('Time')\n",
    "plt.ylabel('Temp')\n",
    "plt.title('Temp')\n",
    "plt.show()\n",
    "plt.plot(t, P)\n",
    "plt.xlabel('Time')\n",
    "plt.ylabel('Pressure')\n",
    "plt.title('Pressure')\n",
    "plt.show()"
   ]
  }
 ],
 "metadata": {
  "kernelspec": {
   "display_name": "Python (vicsek)",
   "language": "python",
   "name": "vicsek"
  },
  "language_info": {
   "codemirror_mode": {
    "name": "ipython",
    "version": 3
   },
   "file_extension": ".py",
   "mimetype": "text/x-python",
   "name": "python",
   "nbconvert_exporter": "python",
   "pygments_lexer": "ipython3",
   "version": "3.12.2"
  },
  "toc": {
   "base_numbering": 1,
   "nav_menu": {},
   "number_sections": true,
   "sideBar": true,
   "skip_h1_title": false,
   "title_cell": "Table of Contents",
   "title_sidebar": "Contents",
   "toc_cell": false,
   "toc_position": {},
   "toc_section_display": true,
   "toc_window_display": false
  },
  "varInspector": {
   "cols": {
    "lenName": 16,
    "lenType": 16,
    "lenVar": 40
   },
   "kernels_config": {
    "python": {
     "delete_cmd_postfix": "",
     "delete_cmd_prefix": "del ",
     "library": "var_list.py",
     "varRefreshCmd": "print(var_dic_list())"
    },
    "r": {
     "delete_cmd_postfix": ") ",
     "delete_cmd_prefix": "rm(",
     "library": "var_list.r",
     "varRefreshCmd": "cat(var_dic_list()) "
    }
   },
   "types_to_exclude": [
    "module",
    "function",
    "builtin_function_or_method",
    "instance",
    "_Feature"
   ],
   "window_display": false
  }
 },
 "nbformat": 4,
 "nbformat_minor": 4
}
