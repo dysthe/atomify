{
 "cells": [
  {
   "cell_type": "markdown",
   "metadata": {},
   "source": [
    "Import the logfile and find and print the keywords = headers of the data columns\n",
    "* Compare the keywords to those found printed to _Console_ \n",
    "* Compare timing of printing to _Console_ (first column) to values for `thermo` and `timestep` in _my-first-md-simulation.in_\n",
    "* Compare the keywords to those defined by `thermo_style` in _my-first-md-simulation.in_"
   ]
  },
  {
   "cell_type": "code",
   "execution_count": null,
   "metadata": {},
   "outputs": [],
   "source": [
    "# Add lammps_logfile to available packages.\n",
    "# This is a workaround since the lammps-logfile\n",
    "# needs to be updated. This requirement will go away later.\n",
    "import sys\n",
    "sys.path.append('/drive')\n",
    "%pip install pandas"
   ]
  },
  {
   "cell_type": "code",
   "execution_count": null,
   "metadata": {
    "scrolled": true
   },
   "outputs": [],
   "source": [
    "import lammps_logfile\n",
    "import matplotlib.pyplot as plt\n",
    "log = lammps_logfile.File(\"./log.lammps\")\n",
    "print(\"Log keywords: \", log.get_keywords())"
   ]
  },
  {
   "cell_type": "markdown",
   "metadata": {
    "scrolled": true
   },
   "source": [
    "Import data from logfile"
   ]
  },
  {
   "cell_type": "code",
   "execution_count": null,
   "metadata": {
    "scrolled": true
   },
   "outputs": [],
   "source": [
    "t = log.get(\"Time\")\n",
    "T = log.get(\"Temp\")\n",
    "Ek = log.get(\"KinEng\")\n",
    "Ep = log.get(\"PotEng\")\n",
    "P = log.get(\"Press\")\n",
    "\n",
    "plt.plot(t, Ek+Ep)\n",
    "plt.xlabel('Time')\n",
    "plt.ylabel('Total energy')\n",
    "plt.title('Total energy')\n",
    "plt.show()\n",
    "plt.plot(t, T)\n",
    "plt.xlabel('Time')\n",
    "plt.ylabel('Temperature')\n",
    "plt.title('Temperature')\n",
    "plt.show()"
   ]
  },
  {
   "cell_type": "markdown",
   "metadata": {},
   "source": [
    "Note down the following for each simulation\n",
    "* What is the temperature and what did you set the temperature to? (`fix 1 all nvt temp`...)\n",
    "* How long time did it take to settle at this temperature?\n",
    "* What happens to the total energy?"
   ]
  },
  {
   "cell_type": "code",
   "execution_count": null,
   "metadata": {},
   "outputs": [],
   "source": []
  },
  {
   "cell_type": "code",
   "execution_count": null,
   "metadata": {},
   "outputs": [],
   "source": []
  }
 ],
 "metadata": {
  "kernelspec": {
   "display_name": "Python 3 (ipykernel)",
   "language": "python",
   "name": "python3"
  },
  "language_info": {
   "codemirror_mode": {
    "name": "ipython",
    "version": 3
   },
   "file_extension": ".py",
   "mimetype": "text/x-python",
   "name": "python",
   "nbconvert_exporter": "python",
   "pygments_lexer": "ipython3",
   "version": "3.12.2"
  },
  "toc": {
   "base_numbering": 1,
   "nav_menu": {},
   "number_sections": true,
   "sideBar": true,
   "skip_h1_title": false,
   "title_cell": "Table of Contents",
   "title_sidebar": "Contents",
   "toc_cell": false,
   "toc_position": {},
   "toc_section_display": true,
   "toc_window_display": false
  },
  "varInspector": {
   "cols": {
    "lenName": 16,
    "lenType": 16,
    "lenVar": 40
   },
   "kernels_config": {
    "python": {
     "delete_cmd_postfix": "",
     "delete_cmd_prefix": "del ",
     "library": "var_list.py",
     "varRefreshCmd": "print(var_dic_list())"
    },
    "r": {
     "delete_cmd_postfix": ") ",
     "delete_cmd_prefix": "rm(",
     "library": "var_list.r",
     "varRefreshCmd": "cat(var_dic_list()) "
    }
   },
   "types_to_exclude": [
    "module",
    "function",
    "builtin_function_or_method",
    "instance",
    "_Feature"
   ],
   "window_display": false
  }
 },
 "nbformat": 4,
 "nbformat_minor": 4
}
